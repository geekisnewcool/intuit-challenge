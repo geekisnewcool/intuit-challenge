{
 "cells": [
  {
   "cell_type": "code",
   "execution_count": 1,
   "metadata": {
    "collapsed": true
   },
   "outputs": [],
   "source": [
    "import pandas as pd\n",
    "import matplotlib.pyplot as plt\n",
    "import numpy as np\n",
    "\n",
    "\n",
    "\n",
    "import os\n",
    "os.chdir('C:/Users/bhupe/Desktop/ML_Challenge_Intuit_Last_Date_5_FEB_2018')\n",
    "\n",
    "\n",
    "df=pd.read_csv('ship_data.csv')"
   ]
  },
  {
   "cell_type": "code",
   "execution_count": 2,
   "metadata": {
    "collapsed": false
   },
   "outputs": [
    {
     "data": {
      "text/plain": [
       "male      577\n",
       "female    314\n",
       "Name: Gender, dtype: int64"
      ]
     },
     "execution_count": 2,
     "metadata": {},
     "output_type": "execute_result"
    }
   ],
   "source": [
    "#\tCount\tthe\tnumber\tof\tpassengers\ton\tthe\tship\tbased\ton\tGender.\t\n",
    "df['Gender'].value_counts()"
   ]
  },
  {
   "cell_type": "code",
   "execution_count": 3,
   "metadata": {
    "collapsed": false
   },
   "outputs": [
    {
     "data": {
      "text/plain": [
       "3    491\n",
       "1    216\n",
       "2    184\n",
       "Name: Class, dtype: int64"
      ]
     },
     "execution_count": 3,
     "metadata": {},
     "output_type": "execute_result"
    }
   ],
   "source": [
    "#\tCount\tthe\tnumber\tof\tpassengers\ton\tthe\tship\tbased\ton\tClass.\n",
    "df['Class'].value_counts()"
   ]
  },
  {
   "cell_type": "code",
   "execution_count": 4,
   "metadata": {
    "collapsed": false
   },
   "outputs": [
    {
     "data": {
      "text/plain": [
       "84"
      ]
     },
     "execution_count": 4,
     "metadata": {},
     "output_type": "execute_result"
    }
   ],
   "source": [
    "#  Count\tthe\tnumber\tof\tpassengers\ton\tthe\tship\twho\tare\tchildren\t(Age\tless\tthan\t16\tyears).\t4\n",
    "children=df[df['Age'] < 16]\n",
    "children['Age'].count()"
   ]
  },
  {
   "cell_type": "code",
   "execution_count": 20,
   "metadata": {
    "collapsed": false
   },
   "outputs": [
    {
     "data": {
      "text/plain": [
       "(array([[1., 0., 0., 0., 0., 0., 0., 0., 0., 0.],\n",
       "        [0., 0., 0., 0., 0., 0., 0., 0., 0., 0.],\n",
       "        [0., 0., 0., 0., 0., 0., 0., 0., 0., 0.],\n",
       "        [0., 0., 0., 0., 0., 0., 0., 0., 0., 0.],\n",
       "        [0., 0., 0., 0., 0., 0., 0., 0., 0., 0.],\n",
       "        [0., 0., 1., 0., 0., 0., 0., 0., 0., 0.],\n",
       "        [0., 0., 0., 0., 0., 0., 0., 0., 0., 0.],\n",
       "        [0., 0., 0., 0., 0., 0., 0., 0., 0., 0.],\n",
       "        [0., 0., 0., 0., 0., 0., 0., 0., 0., 0.],\n",
       "        [0., 0., 0., 0., 0., 0., 0., 0., 0., 1.]]),\n",
       " array([1. , 1.2, 1.4, 1.6, 1.8, 2. , 2.2, 2.4, 2.6, 2.8, 3. ]),\n",
       " array([ 6. , 11.2, 16.4, 21.6, 26.8, 32. , 37.2, 42.4, 47.6, 52.8, 58. ]),\n",
       " <matplotlib.image.AxesImage at 0x200a4125c18>)"
      ]
     },
     "execution_count": 20,
     "metadata": {},
     "output_type": "execute_result"
    }
   ],
   "source": [
    "#\tFind\tthe\tnumber\tof\tchildren\tin\tthe\tvarious\tclasses\n",
    "children['Class'].value_counts()\n",
    "\n",
    "#plotting the data\n",
    "#a=[[],[]]\n",
    "\n",
    "children_1=df[(df['Age'] < 16) & (df['Age'] > 0)]\n",
    "a=children_1['Class'].value_counts().reset_index()\n",
    "plt.hist2d(list(a['index']),list(a['Class']))        \n"
   ]
  },
  {
   "cell_type": "code",
   "execution_count": 7,
   "metadata": {
    "collapsed": false
   },
   "outputs": [],
   "source": [
    "#Replace\tall\tNULL\tand\tNAN\tvalues\tin\tthe\tdataset\tprogramatically.\n",
    "#finding the columns containing null values\n",
    "d=[]\n",
    "c=df.columns\n",
    "for i in c:\n",
    "    if df[i].isnull().any()==True:\n",
    "        d.append(i)\n",
    "Z = df[(df['Age'].notnull()==True) & (df['Age'] > 0)]\n",
    "l = Z['Age'].mean()        \n",
    "df['Age']=df['Age'].fillna(l)\n",
    "for i in range(len(df)):\n",
    "    if df['Age'][i] < 0 :\n",
    "        df['Age'][i]=l;\n",
    "       \n",
    "\n",
    "\n",
    "\n"
   ]
  },
  {
   "cell_type": "code",
   "execution_count": 8,
   "metadata": {
    "collapsed": true
   },
   "outputs": [],
   "source": [
    "from statistics import mode\n",
    "c=mode(list(df['Embarked']))\n",
    "df['Embarked']=df['Embarked'].fillna(c)"
   ]
  },
  {
   "cell_type": "code",
   "execution_count": 10,
   "metadata": {
    "collapsed": false
   },
   "outputs": [
    {
     "name": "stdout",
     "output_type": "stream",
     "text": [
      "537\n",
      "354\n"
     ]
    }
   ],
   "source": [
    "#\tFind\tthe\tnumber\tof\tpassengers\twho\twere\talone\tand\twho\twere\twith\tfamily.\n",
    "#passengers who are alone \t\n",
    "Alone=df[(df['Siblings Count']==0) & (df['Parents Count']==0) ]\n",
    "print(len(Alone))\n",
    "\n",
    "#passengers who are with family\n",
    "with_family=df[(df['Siblings Count']+df['Parents Count']>0) ]\n",
    "print(len(with_family)) \n"
   ]
  },
  {
   "cell_type": "code",
   "execution_count": 11,
   "metadata": {
    "collapsed": false
   },
   "outputs": [
    {
     "name": "stdout",
     "output_type": "stream",
     "text": [
      "percentage of passengers survived from class 3 is  13.35578002244669\n",
      "percentage of passengers survived from class 1 is  15.26374859708193\n",
      "percentage of passengers survived from class 2 is  9.764309764309765\n"
     ]
    }
   ],
   "source": [
    "#\tWhat\tpercentage\tof\tpassengers\tsurvived\tin\teach\tClass\t\n",
    "Classes=df['Class'].value_counts().reset_index()\n",
    "for i in Classes['index']:\n",
    "    Survival=df['Survived'].groupby([df['Class']]).get_group(i)\n",
    "    n=Survival.value_counts()\n",
    "    m=(n[1]/len(df))*100\n",
    "    print (\"percentage of passengers survived from class \"+str(i)+\" is \",m)\n"
   ]
  },
  {
   "cell_type": "code",
   "execution_count": 12,
   "metadata": {
    "collapsed": false
   },
   "outputs": [
    {
     "name": "stdout",
     "output_type": "stream",
     "text": [
      "percentage of survival of male passengers is  12.2334455667789\n",
      "percentage of survival of female passengers is  26.15039281705948\n"
     ]
    }
   ],
   "source": [
    "#    percentage\tof\tpassengers\twho\tsurvived,\tbased\ton\tGender \n",
    "Gender=df['Gender'].value_counts().reset_index()\n",
    "for i in Gender['index']:\n",
    "    Survival=df['Survived'].groupby([df['Gender']]).get_group(i)\n",
    "    n=Survival.value_counts()\n",
    "    m=(n[1]/len(df))*100\n",
    "    print (\"percentage of survival of \"+i+\" passengers is \",m)"
   ]
  },
  {
   "cell_type": "code",
   "execution_count": 16,
   "metadata": {
    "collapsed": false
   },
   "outputs": [
    {
     "name": "stdout",
     "output_type": "stream",
     "text": [
      "yes,having a family member increased the chances of survival\n"
     ]
    }
   ],
   "source": [
    "#\tDid\thaving\ta\tfamily\tmember\tincreased\tthe\tchances\tof\tsurvival  \n",
    "passenger_with_family=with_family['Survived'].value_counts()\n",
    "percent=(passenger_with_family[1]/len(df))*100\n",
    "\n",
    "passenger_without_family=Alone['Survived'].value_counts()\n",
    "percent_1=(passenger_without_family[1]/len(df))*100\n",
    "\n",
    "\n",
    "if percent > percent_1:\n",
    "    print(\"yes,having a family member increased the chances of survival\" )\n",
    "else:\n",
    "    print(\"No,having a family member did not increase the chances of survival\")\n"
   ]
  },
  {
   "cell_type": "code",
   "execution_count": 17,
   "metadata": {
    "collapsed": true
   },
   "outputs": [],
   "source": [
    "#Classification model\n",
    "\n",
    "\n",
    "\n",
    "\n",
    "df['Family']=df['Siblings Count']+df['Parents Count']\n",
    "#X=df.iloc[:,[1,3,4,7,8,10]]\n",
    "#y=df.iloc[:,9]\n",
    "\n",
    "#df['Family']=df['Siblings Count']+df['Parents Count']\n",
    "X=df.iloc[:,[1,3,4,5,6,7,8]]\n",
    "y=df.iloc[:,9]\n",
    "\n",
    "\n",
    "X=pd.get_dummies(X)\n",
    "\n",
    "\n",
    "\n",
    "\n",
    "\n",
    "\n",
    "\n",
    "# Splitting the dataset into the Training set and Test set\n",
    "from sklearn.cross_validation import train_test_split\n",
    "X_train, X_test, y_train, y_test = train_test_split(X, y, test_size = 0.1, random_state = 0)\n",
    "\n",
    "# Feature Scaling\n",
    "from sklearn.preprocessing import StandardScaler\n",
    "sc = StandardScaler()\n",
    "X_train = sc.fit_transform(X_train)\n",
    "X_test = sc.transform(X_test)\n",
    "\n",
    "# Fitting Random Forest Classification to the Training set\n",
    "from sklearn.ensemble import RandomForestClassifier\n",
    "classifier = RandomForestClassifier(n_estimators = 20, criterion = 'entropy', random_state = 0)\n",
    "classifier.fit(X_train, y_train)\n",
    "\n",
    "# Predicting the Test set results\n",
    "y_pred = classifier.predict(X_test)\n",
    "\n",
    "# Making the Confusion Matrix\n",
    "from sklearn.metrics import confusion_matrix\n",
    "cm = confusion_matrix(y_test, y_pred)"
   ]
  },
  {
   "cell_type": "code",
   "execution_count": 18,
   "metadata": {
    "collapsed": false
   },
   "outputs": [
    {
     "data": {
      "text/plain": [
       "array([0, 0, 0, 1, 0, 0, 1, 1, 1, 1, 0, 0, 0, 1, 1, 0, 0, 0, 0, 1, 0, 1,\n",
       "       0, 0, 0, 1, 0, 1, 1, 0, 0, 1, 0, 1, 0, 0, 0, 0, 0, 0, 0, 0, 0, 0,\n",
       "       1, 0, 0, 1, 0, 0, 0, 0, 1, 0, 0, 0, 0, 0, 0, 0, 0, 0, 1, 0, 1, 0,\n",
       "       1, 0, 1, 1, 1, 0, 1, 0, 0, 1, 1, 0, 0, 1, 0, 1, 1, 0, 0, 1, 1, 0,\n",
       "       1, 1], dtype=int64)"
      ]
     },
     "execution_count": 18,
     "metadata": {},
     "output_type": "execute_result"
    }
   ],
   "source": [
    "y_pred"
   ]
  },
  {
   "cell_type": "code",
   "execution_count": 19,
   "metadata": {
    "collapsed": false
   },
   "outputs": [
    {
     "data": {
      "text/plain": [
       "array([[46,  5],\n",
       "       [11, 28]])"
      ]
     },
     "execution_count": 19,
     "metadata": {},
     "output_type": "execute_result"
    }
   ],
   "source": [
    "cm"
   ]
  },
  {
   "cell_type": "code",
   "execution_count": null,
   "metadata": {
    "collapsed": true
   },
   "outputs": [],
   "source": []
  }
 ],
 "metadata": {
  "anaconda-cloud": {},
  "kernelspec": {
   "display_name": "Python [conda root]",
   "language": "python",
   "name": "conda-root-py"
  },
  "language_info": {
   "codemirror_mode": {
    "name": "ipython",
    "version": 3
   },
   "file_extension": ".py",
   "mimetype": "text/x-python",
   "name": "python",
   "nbconvert_exporter": "python",
   "pygments_lexer": "ipython3",
   "version": "3.5.2"
  }
 },
 "nbformat": 4,
 "nbformat_minor": 1
}
